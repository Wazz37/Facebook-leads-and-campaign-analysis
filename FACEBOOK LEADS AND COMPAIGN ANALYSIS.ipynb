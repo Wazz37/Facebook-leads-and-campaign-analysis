{
 "cells": [
  {
   "cell_type": "markdown",
   "id": "d295e720",
   "metadata": {},
   "source": [
    "# FACEBOOK LEADS AND COMPAIGN ANALYSIS\n",
    "\n",
    "### TO DO - Talk about dataset (Source, How it will be useful)\n",
    "- Kaggle  \n",
    "- analyze camapaigns with best recommmended changes to improve conversion rates across products \n",
    "       "
   ]
  },
  {
   "cell_type": "markdown",
   "id": "dccccd0f",
   "metadata": {},
   "source": [
    "# I. Getting the dataset\n",
    "Importing pandas to read dataset"
   ]
  },
  {
   "cell_type": "code",
   "execution_count": 1,
   "id": "0553ba64",
   "metadata": {},
   "outputs": [],
   "source": [
    "import pandas as pd"
   ]
  },
  {
   "cell_type": "code",
   "execution_count": 2,
   "id": "0a041256",
   "metadata": {},
   "outputs": [
    {
     "data": {
      "text/html": [
       "<div>\n",
       "<style scoped>\n",
       "    .dataframe tbody tr th:only-of-type {\n",
       "        vertical-align: middle;\n",
       "    }\n",
       "\n",
       "    .dataframe tbody tr th {\n",
       "        vertical-align: top;\n",
       "    }\n",
       "\n",
       "    .dataframe thead th {\n",
       "        text-align: right;\n",
       "    }\n",
       "</style>\n",
       "<table border=\"1\" class=\"dataframe\">\n",
       "  <thead>\n",
       "    <tr style=\"text-align: right;\">\n",
       "      <th></th>\n",
       "      <th>ad_id</th>\n",
       "      <th>reporting_start</th>\n",
       "      <th>reporting_end</th>\n",
       "      <th>campaign_id</th>\n",
       "      <th>fb_campaign_id</th>\n",
       "      <th>age</th>\n",
       "      <th>gender</th>\n",
       "      <th>interest1</th>\n",
       "      <th>interest2</th>\n",
       "      <th>interest3</th>\n",
       "      <th>impressions</th>\n",
       "      <th>clicks</th>\n",
       "      <th>spent</th>\n",
       "      <th>total_conversion</th>\n",
       "      <th>approved_conversion</th>\n",
       "    </tr>\n",
       "  </thead>\n",
       "  <tbody>\n",
       "    <tr>\n",
       "      <th>0</th>\n",
       "      <td>708746</td>\n",
       "      <td>17/08/2017</td>\n",
       "      <td>17/08/2017</td>\n",
       "      <td>916</td>\n",
       "      <td>103916</td>\n",
       "      <td>30-34</td>\n",
       "      <td>M</td>\n",
       "      <td>15</td>\n",
       "      <td>17</td>\n",
       "      <td>17</td>\n",
       "      <td>7350.0</td>\n",
       "      <td>1</td>\n",
       "      <td>1.43</td>\n",
       "      <td>2.0</td>\n",
       "      <td>1.0</td>\n",
       "    </tr>\n",
       "    <tr>\n",
       "      <th>1</th>\n",
       "      <td>708749</td>\n",
       "      <td>17/08/2017</td>\n",
       "      <td>17/08/2017</td>\n",
       "      <td>916</td>\n",
       "      <td>103917</td>\n",
       "      <td>30-34</td>\n",
       "      <td>M</td>\n",
       "      <td>16</td>\n",
       "      <td>19</td>\n",
       "      <td>21</td>\n",
       "      <td>17861.0</td>\n",
       "      <td>2</td>\n",
       "      <td>1.82</td>\n",
       "      <td>2.0</td>\n",
       "      <td>0.0</td>\n",
       "    </tr>\n",
       "    <tr>\n",
       "      <th>2</th>\n",
       "      <td>708771</td>\n",
       "      <td>17/08/2017</td>\n",
       "      <td>17/08/2017</td>\n",
       "      <td>916</td>\n",
       "      <td>103920</td>\n",
       "      <td>30-34</td>\n",
       "      <td>M</td>\n",
       "      <td>20</td>\n",
       "      <td>25</td>\n",
       "      <td>22</td>\n",
       "      <td>693.0</td>\n",
       "      <td>0</td>\n",
       "      <td>0.00</td>\n",
       "      <td>1.0</td>\n",
       "      <td>0.0</td>\n",
       "    </tr>\n",
       "    <tr>\n",
       "      <th>3</th>\n",
       "      <td>708815</td>\n",
       "      <td>30/08/2017</td>\n",
       "      <td>30/08/2017</td>\n",
       "      <td>916</td>\n",
       "      <td>103928</td>\n",
       "      <td>30-34</td>\n",
       "      <td>M</td>\n",
       "      <td>28</td>\n",
       "      <td>32</td>\n",
       "      <td>32</td>\n",
       "      <td>4259.0</td>\n",
       "      <td>1</td>\n",
       "      <td>1.25</td>\n",
       "      <td>1.0</td>\n",
       "      <td>0.0</td>\n",
       "    </tr>\n",
       "    <tr>\n",
       "      <th>4</th>\n",
       "      <td>708818</td>\n",
       "      <td>17/08/2017</td>\n",
       "      <td>17/08/2017</td>\n",
       "      <td>916</td>\n",
       "      <td>103928</td>\n",
       "      <td>30-34</td>\n",
       "      <td>M</td>\n",
       "      <td>28</td>\n",
       "      <td>33</td>\n",
       "      <td>32</td>\n",
       "      <td>4133.0</td>\n",
       "      <td>1</td>\n",
       "      <td>1.29</td>\n",
       "      <td>1.0</td>\n",
       "      <td>1.0</td>\n",
       "    </tr>\n",
       "  </tbody>\n",
       "</table>\n",
       "</div>"
      ],
      "text/plain": [
       "    ad_id reporting_start reporting_end campaign_id fb_campaign_id    age  \\\n",
       "0  708746      17/08/2017    17/08/2017         916         103916  30-34   \n",
       "1  708749      17/08/2017    17/08/2017         916         103917  30-34   \n",
       "2  708771      17/08/2017    17/08/2017         916         103920  30-34   \n",
       "3  708815      30/08/2017    30/08/2017         916         103928  30-34   \n",
       "4  708818      17/08/2017    17/08/2017         916         103928  30-34   \n",
       "\n",
       "  gender  interest1  interest2  interest3  impressions  clicks  spent  \\\n",
       "0      M         15         17         17       7350.0       1   1.43   \n",
       "1      M         16         19         21      17861.0       2   1.82   \n",
       "2      M         20         25         22        693.0       0   0.00   \n",
       "3      M         28         32         32       4259.0       1   1.25   \n",
       "4      M         28         33         32       4133.0       1   1.29   \n",
       "\n",
       "   total_conversion  approved_conversion  \n",
       "0               2.0                  1.0  \n",
       "1               2.0                  0.0  \n",
       "2               1.0                  0.0  \n",
       "3               1.0                  0.0  \n",
       "4               1.0                  1.0  "
      ]
     },
     "execution_count": 2,
     "metadata": {},
     "output_type": "execute_result"
    }
   ],
   "source": [
    "df = pd.read_csv(\"data.csv\")\n",
    "df.head()"
   ]
  },
  {
   "cell_type": "code",
   "execution_count": 3,
   "id": "73faddc1",
   "metadata": {},
   "outputs": [
    {
     "data": {
      "text/plain": [
       "(1143, 15)"
      ]
     },
     "execution_count": 3,
     "metadata": {},
     "output_type": "execute_result"
    }
   ],
   "source": [
    "df.shape"
   ]
  },
  {
   "cell_type": "markdown",
   "id": "618c33f3",
   "metadata": {},
   "source": [
    "In this dataset, 1143 rows and 15 columns are present."
   ]
  },
  {
   "cell_type": "markdown",
   "id": "f4d11991",
   "metadata": {},
   "source": [
    "# II. Data preparation and cleaning\n",
    "#### - Looking at some information about the data and data columns\n",
    "#### - Create a new dataset with important columns which are necessary for analysis\n",
    "#### - Fix any incorrect or missing values"
   ]
  },
  {
   "cell_type": "code",
   "execution_count": 4,
   "id": "58e0fe53",
   "metadata": {},
   "outputs": [
    {
     "name": "stdout",
     "output_type": "stream",
     "text": [
      "<class 'pandas.core.frame.DataFrame'>\n",
      "RangeIndex: 1143 entries, 0 to 1142\n",
      "Data columns (total 15 columns):\n",
      " #   Column               Non-Null Count  Dtype  \n",
      "---  ------               --------------  -----  \n",
      " 0   ad_id                1143 non-null   int64  \n",
      " 1   reporting_start      1143 non-null   object \n",
      " 2   reporting_end        1143 non-null   object \n",
      " 3   campaign_id          1143 non-null   object \n",
      " 4   fb_campaign_id       1143 non-null   object \n",
      " 5   age                  1143 non-null   object \n",
      " 6   gender               1143 non-null   object \n",
      " 7   interest1            1143 non-null   int64  \n",
      " 8   interest2            1143 non-null   int64  \n",
      " 9   interest3            1143 non-null   int64  \n",
      " 10  impressions          1143 non-null   float64\n",
      " 11  clicks               1143 non-null   int64  \n",
      " 12  spent                1143 non-null   float64\n",
      " 13  total_conversion     761 non-null    float64\n",
      " 14  approved_conversion  761 non-null    float64\n",
      "dtypes: float64(4), int64(5), object(6)\n",
      "memory usage: 134.1+ KB\n"
     ]
    }
   ],
   "source": [
    "df.info()"
   ]
  },
  {
   "cell_type": "markdown",
   "id": "89dd08eb",
   "metadata": {},
   "source": [
    "#### Dataset describes the columns as\n",
    "**ad_id           :** Unique id for each ad.<br>\n",
    "**reporting_start :** Starting date of each ad.<br>\n",
    "**reporting_end  :** Ending date of each date.<br>\n",
    "**compaign_id     :** An ID associated with each ad campaign.<br>\n",
    "**fb_compain_id :** An ID associated with how Facebook tracks each campaign. <br>\n",
    "**age           :** Age of the person to whom the ad is shown. <br>\n",
    "**gender :** gender of the person to whom the add is shown. <br>\n",
    "**interest 1,2,3 :** A code specifying the category to which the person’s interest belongs (interests are as mentioned in the person’s Facebook public profile)<br>\n",
    "**impressions :** the number of times the ad was shown.<br>\n",
    "**clicks :** number of clicks on for that ad.<br>\n",
    "**spent :** Amount paid by company to Facebook, to show that ad.<br>\n",
    "**total_converison :** Total number of people who enquired about the product after seeing the ad.<br>\n",
    "**approves_conversion :** Total number of people who bought the product after seeing the ad.<br>"
   ]
  },
  {
   "cell_type": "code",
   "execution_count": 5,
   "id": "605a7c89",
   "metadata": {},
   "outputs": [
    {
     "data": {
      "text/plain": [
       "object     6\n",
       "int64      5\n",
       "float64    4\n",
       "dtype: int64"
      ]
     },
     "execution_count": 5,
     "metadata": {},
     "output_type": "execute_result"
    }
   ],
   "source": [
    "df.dtypes.value_counts()"
   ]
  },
  {
   "cell_type": "markdown",
   "id": "87e12569",
   "metadata": {},
   "source": [
    "Here in this dataset, we have 6 object type columns, 5 numerical columns ans 4 decimal type columns"
   ]
  },
  {
   "cell_type": "markdown",
   "id": "0481ebf4",
   "metadata": {},
   "source": [
    "Now we shall observe the unique value counts ahead\n"
   ]
  },
  {
   "cell_type": "code",
   "execution_count": 6,
   "id": "4234aaf8",
   "metadata": {},
   "outputs": [
    {
     "data": {
      "text/plain": [
       "ad_id                  1143\n",
       "reporting_start          14\n",
       "reporting_end            14\n",
       "campaign_id               7\n",
       "fb_campaign_id          490\n",
       "age                      44\n",
       "gender                   63\n",
       "interest1                64\n",
       "interest2               431\n",
       "interest3               168\n",
       "impressions            1126\n",
       "clicks                   97\n",
       "spent                   509\n",
       "total_conversion         24\n",
       "approved_conversion      15\n",
       "dtype: int64"
      ]
     },
     "execution_count": 6,
     "metadata": {},
     "output_type": "execute_result"
    }
   ],
   "source": [
    "df.nunique()"
   ]
  },
  {
   "cell_type": "markdown",
   "id": "edb06146",
   "metadata": {},
   "source": [
    "#### Looking for misisng values"
   ]
  },
  {
   "cell_type": "code",
   "execution_count": 7,
   "id": "012295cd",
   "metadata": {},
   "outputs": [
    {
     "data": {
      "text/plain": [
       "ad_id                    0\n",
       "reporting_start          0\n",
       "reporting_end            0\n",
       "campaign_id              0\n",
       "fb_campaign_id           0\n",
       "age                      0\n",
       "gender                   0\n",
       "interest1                0\n",
       "interest2                0\n",
       "interest3                0\n",
       "impressions              0\n",
       "clicks                   0\n",
       "spent                    0\n",
       "total_conversion       382\n",
       "approved_conversion    382\n",
       "dtype: int64"
      ]
     },
     "execution_count": 7,
     "metadata": {},
     "output_type": "execute_result"
    }
   ],
   "source": [
    "df.isnull().sum()"
   ]
  },
  {
   "cell_type": "markdown",
   "id": "28e3544b",
   "metadata": {},
   "source": [
    "we have 382 missing values in total_conversion and approves_conversion. "
   ]
  },
  {
   "cell_type": "markdown",
   "id": "6008a5e3",
   "metadata": {},
   "source": [
    " #### Let's find those rows"
   ]
  },
  {
   "cell_type": "code",
   "execution_count": 8,
   "id": "673e8e27",
   "metadata": {},
   "outputs": [
    {
     "data": {
      "text/html": [
       "<div>\n",
       "<style scoped>\n",
       "    .dataframe tbody tr th:only-of-type {\n",
       "        vertical-align: middle;\n",
       "    }\n",
       "\n",
       "    .dataframe tbody tr th {\n",
       "        vertical-align: top;\n",
       "    }\n",
       "\n",
       "    .dataframe thead th {\n",
       "        text-align: right;\n",
       "    }\n",
       "</style>\n",
       "<table border=\"1\" class=\"dataframe\">\n",
       "  <thead>\n",
       "    <tr style=\"text-align: right;\">\n",
       "      <th></th>\n",
       "      <th>ad_id</th>\n",
       "      <th>reporting_start</th>\n",
       "      <th>reporting_end</th>\n",
       "      <th>campaign_id</th>\n",
       "      <th>fb_campaign_id</th>\n",
       "      <th>age</th>\n",
       "      <th>gender</th>\n",
       "      <th>interest1</th>\n",
       "      <th>interest2</th>\n",
       "      <th>interest3</th>\n",
       "      <th>impressions</th>\n",
       "      <th>clicks</th>\n",
       "      <th>spent</th>\n",
       "      <th>total_conversion</th>\n",
       "      <th>approved_conversion</th>\n",
       "    </tr>\n",
       "  </thead>\n",
       "  <tbody>\n",
       "    <tr>\n",
       "      <th>761</th>\n",
       "      <td>1121594</td>\n",
       "      <td>26/08/2017</td>\n",
       "      <td>26/08/2017</td>\n",
       "      <td>45-49</td>\n",
       "      <td>M</td>\n",
       "      <td>10</td>\n",
       "      <td>14</td>\n",
       "      <td>14</td>\n",
       "      <td>426500</td>\n",
       "      <td>72</td>\n",
       "      <td>128.279999</td>\n",
       "      <td>4</td>\n",
       "      <td>1.0</td>\n",
       "      <td>NaN</td>\n",
       "      <td>NaN</td>\n",
       "    </tr>\n",
       "    <tr>\n",
       "      <th>762</th>\n",
       "      <td>1121597</td>\n",
       "      <td>30/08/2017</td>\n",
       "      <td>30/08/2017</td>\n",
       "      <td>45-49</td>\n",
       "      <td>M</td>\n",
       "      <td>15</td>\n",
       "      <td>21</td>\n",
       "      <td>19</td>\n",
       "      <td>54237</td>\n",
       "      <td>7</td>\n",
       "      <td>10.780000</td>\n",
       "      <td>2</td>\n",
       "      <td>1.0</td>\n",
       "      <td>NaN</td>\n",
       "      <td>NaN</td>\n",
       "    </tr>\n",
       "    <tr>\n",
       "      <th>763</th>\n",
       "      <td>1121598</td>\n",
       "      <td>30/08/2017</td>\n",
       "      <td>30/08/2017</td>\n",
       "      <td>45-49</td>\n",
       "      <td>M</td>\n",
       "      <td>15</td>\n",
       "      <td>19</td>\n",
       "      <td>18</td>\n",
       "      <td>506916</td>\n",
       "      <td>89</td>\n",
       "      <td>133.699999</td>\n",
       "      <td>2</td>\n",
       "      <td>2.0</td>\n",
       "      <td>NaN</td>\n",
       "      <td>NaN</td>\n",
       "    </tr>\n",
       "    <tr>\n",
       "      <th>764</th>\n",
       "      <td>1121599</td>\n",
       "      <td>30/08/2017</td>\n",
       "      <td>30/08/2017</td>\n",
       "      <td>45-49</td>\n",
       "      <td>M</td>\n",
       "      <td>15</td>\n",
       "      <td>17</td>\n",
       "      <td>18</td>\n",
       "      <td>250960</td>\n",
       "      <td>42</td>\n",
       "      <td>64.880000</td>\n",
       "      <td>2</td>\n",
       "      <td>0.0</td>\n",
       "      <td>NaN</td>\n",
       "      <td>NaN</td>\n",
       "    </tr>\n",
       "    <tr>\n",
       "      <th>765</th>\n",
       "      <td>1121601</td>\n",
       "      <td>30/08/2017</td>\n",
       "      <td>30/08/2017</td>\n",
       "      <td>45-49</td>\n",
       "      <td>M</td>\n",
       "      <td>16</td>\n",
       "      <td>20</td>\n",
       "      <td>18</td>\n",
       "      <td>2286228</td>\n",
       "      <td>353</td>\n",
       "      <td>603.380002</td>\n",
       "      <td>16</td>\n",
       "      <td>7.0</td>\n",
       "      <td>NaN</td>\n",
       "      <td>NaN</td>\n",
       "    </tr>\n",
       "    <tr>\n",
       "      <th>...</th>\n",
       "      <td>...</td>\n",
       "      <td>...</td>\n",
       "      <td>...</td>\n",
       "      <td>...</td>\n",
       "      <td>...</td>\n",
       "      <td>...</td>\n",
       "      <td>...</td>\n",
       "      <td>...</td>\n",
       "      <td>...</td>\n",
       "      <td>...</td>\n",
       "      <td>...</td>\n",
       "      <td>...</td>\n",
       "      <td>...</td>\n",
       "      <td>...</td>\n",
       "      <td>...</td>\n",
       "    </tr>\n",
       "    <tr>\n",
       "      <th>1138</th>\n",
       "      <td>1314410</td>\n",
       "      <td>19/08/2017</td>\n",
       "      <td>19/08/2017</td>\n",
       "      <td>45-49</td>\n",
       "      <td>F</td>\n",
       "      <td>109</td>\n",
       "      <td>111</td>\n",
       "      <td>114</td>\n",
       "      <td>1129773</td>\n",
       "      <td>252</td>\n",
       "      <td>358.189997</td>\n",
       "      <td>13</td>\n",
       "      <td>2.0</td>\n",
       "      <td>NaN</td>\n",
       "      <td>NaN</td>\n",
       "    </tr>\n",
       "    <tr>\n",
       "      <th>1139</th>\n",
       "      <td>1314411</td>\n",
       "      <td>19/08/2017</td>\n",
       "      <td>19/08/2017</td>\n",
       "      <td>45-49</td>\n",
       "      <td>F</td>\n",
       "      <td>110</td>\n",
       "      <td>111</td>\n",
       "      <td>116</td>\n",
       "      <td>637549</td>\n",
       "      <td>120</td>\n",
       "      <td>173.880003</td>\n",
       "      <td>3</td>\n",
       "      <td>0.0</td>\n",
       "      <td>NaN</td>\n",
       "      <td>NaN</td>\n",
       "    </tr>\n",
       "    <tr>\n",
       "      <th>1140</th>\n",
       "      <td>1314412</td>\n",
       "      <td>19/08/2017</td>\n",
       "      <td>19/08/2017</td>\n",
       "      <td>45-49</td>\n",
       "      <td>F</td>\n",
       "      <td>111</td>\n",
       "      <td>113</td>\n",
       "      <td>117</td>\n",
       "      <td>151531</td>\n",
       "      <td>28</td>\n",
       "      <td>40.289999</td>\n",
       "      <td>2</td>\n",
       "      <td>0.0</td>\n",
       "      <td>NaN</td>\n",
       "      <td>NaN</td>\n",
       "    </tr>\n",
       "    <tr>\n",
       "      <th>1141</th>\n",
       "      <td>1314414</td>\n",
       "      <td>17/08/2017</td>\n",
       "      <td>17/08/2017</td>\n",
       "      <td>45-49</td>\n",
       "      <td>F</td>\n",
       "      <td>113</td>\n",
       "      <td>114</td>\n",
       "      <td>117</td>\n",
       "      <td>790253</td>\n",
       "      <td>135</td>\n",
       "      <td>198.710001</td>\n",
       "      <td>8</td>\n",
       "      <td>2.0</td>\n",
       "      <td>NaN</td>\n",
       "      <td>NaN</td>\n",
       "    </tr>\n",
       "    <tr>\n",
       "      <th>1142</th>\n",
       "      <td>1314415</td>\n",
       "      <td>17/08/2017</td>\n",
       "      <td>17/08/2017</td>\n",
       "      <td>45-49</td>\n",
       "      <td>F</td>\n",
       "      <td>114</td>\n",
       "      <td>116</td>\n",
       "      <td>118</td>\n",
       "      <td>513161</td>\n",
       "      <td>114</td>\n",
       "      <td>165.609999</td>\n",
       "      <td>5</td>\n",
       "      <td>2.0</td>\n",
       "      <td>NaN</td>\n",
       "      <td>NaN</td>\n",
       "    </tr>\n",
       "  </tbody>\n",
       "</table>\n",
       "<p>382 rows × 15 columns</p>\n",
       "</div>"
      ],
      "text/plain": [
       "        ad_id reporting_start reporting_end campaign_id fb_campaign_id  age  \\\n",
       "761   1121594      26/08/2017    26/08/2017       45-49              M   10   \n",
       "762   1121597      30/08/2017    30/08/2017       45-49              M   15   \n",
       "763   1121598      30/08/2017    30/08/2017       45-49              M   15   \n",
       "764   1121599      30/08/2017    30/08/2017       45-49              M   15   \n",
       "765   1121601      30/08/2017    30/08/2017       45-49              M   16   \n",
       "...       ...             ...           ...         ...            ...  ...   \n",
       "1138  1314410      19/08/2017    19/08/2017       45-49              F  109   \n",
       "1139  1314411      19/08/2017    19/08/2017       45-49              F  110   \n",
       "1140  1314412      19/08/2017    19/08/2017       45-49              F  111   \n",
       "1141  1314414      17/08/2017    17/08/2017       45-49              F  113   \n",
       "1142  1314415      17/08/2017    17/08/2017       45-49              F  114   \n",
       "\n",
       "     gender  interest1  interest2  interest3  impressions  clicks  spent  \\\n",
       "761      14         14     426500         72   128.279999       4    1.0   \n",
       "762      21         19      54237          7    10.780000       2    1.0   \n",
       "763      19         18     506916         89   133.699999       2    2.0   \n",
       "764      17         18     250960         42    64.880000       2    0.0   \n",
       "765      20         18    2286228        353   603.380002      16    7.0   \n",
       "...     ...        ...        ...        ...          ...     ...    ...   \n",
       "1138    111        114    1129773        252   358.189997      13    2.0   \n",
       "1139    111        116     637549        120   173.880003       3    0.0   \n",
       "1140    113        117     151531         28    40.289999       2    0.0   \n",
       "1141    114        117     790253        135   198.710001       8    2.0   \n",
       "1142    116        118     513161        114   165.609999       5    2.0   \n",
       "\n",
       "      total_conversion  approved_conversion  \n",
       "761                NaN                  NaN  \n",
       "762                NaN                  NaN  \n",
       "763                NaN                  NaN  \n",
       "764                NaN                  NaN  \n",
       "765                NaN                  NaN  \n",
       "...                ...                  ...  \n",
       "1138               NaN                  NaN  \n",
       "1139               NaN                  NaN  \n",
       "1140               NaN                  NaN  \n",
       "1141               NaN                  NaN  \n",
       "1142               NaN                  NaN  \n",
       "\n",
       "[382 rows x 15 columns]"
      ]
     },
     "execution_count": 8,
     "metadata": {},
     "output_type": "execute_result"
    }
   ],
   "source": [
    "df[df.isnull().any(axis=1)]"
   ]
  },
  {
   "cell_type": "markdown",
   "id": "10ce818c",
   "metadata": {},
   "source": [
    "Since, total_conversion and approved_conversion is necessary for our analysis, we can't ignore these columns so we will remove NaN rows."
   ]
  },
  {
   "cell_type": "code",
   "execution_count": 9,
   "id": "6c67b113",
   "metadata": {},
   "outputs": [],
   "source": [
    "df = df= df.dropna()"
   ]
  },
  {
   "cell_type": "code",
   "execution_count": 10,
   "id": "d0e6c052",
   "metadata": {},
   "outputs": [
    {
     "data": {
      "text/plain": [
       "ad_id                  0\n",
       "reporting_start        0\n",
       "reporting_end          0\n",
       "campaign_id            0\n",
       "fb_campaign_id         0\n",
       "age                    0\n",
       "gender                 0\n",
       "interest1              0\n",
       "interest2              0\n",
       "interest3              0\n",
       "impressions            0\n",
       "clicks                 0\n",
       "spent                  0\n",
       "total_conversion       0\n",
       "approved_conversion    0\n",
       "dtype: int64"
      ]
     },
     "execution_count": 10,
     "metadata": {},
     "output_type": "execute_result"
    }
   ],
   "source": [
    "df.isna().sum()"
   ]
  },
  {
   "cell_type": "code",
   "execution_count": 11,
   "id": "71cb22f6",
   "metadata": {},
   "outputs": [
    {
     "data": {
      "text/plain": [
       "(761, 15)"
      ]
     },
     "execution_count": 11,
     "metadata": {},
     "output_type": "execute_result"
    }
   ],
   "source": [
    "df.shape"
   ]
  },
  {
   "cell_type": "markdown",
   "id": "0e17bd76",
   "metadata": {},
   "source": [
    "Up next, we are gonna try to detect the outliers in the dataset by looking in to the histograms of the numerical attributes."
   ]
  },
  {
   "cell_type": "code",
   "execution_count": 12,
   "id": "c1fd118e",
   "metadata": {},
   "outputs": [
    {
     "data": {
      "image/png": "[encoded data removed]",
      "text/plain": [
       "<Figure size 1440x1080 with 9 Axes>"
      ]
     },
     "metadata": {
      "needs_background": "light"
     },
     "output_type": "display_data"
    }
   ],
   "source": [
    "import matplotlib.pyplot as plt\n",
    "df.hist(bins=50, figsize=(20,15))\n",
    "plt.show()"
   ]
  },
  {
   "cell_type": "markdown",
   "id": "9470c160",
   "metadata": {},
   "source": [
    "The values are resonable and lie within an expected range hence there are no outliers to connsider specifically"
   ]
  },
  {
   "cell_type": "markdown",
   "id": "d0e2cf77",
   "metadata": {},
   "source": [
    "Now we are going to handle the duplicate entries in our data set.\n",
    "\n",
    "Duplicated rows or records can now be dropped from the dataset, as this redundancy may cause inaccurate results and outcomes (an assumption on the dataset)."
   ]
  },
  {
   "cell_type": "code",
   "execution_count": 13,
   "id": "2659fcbb",
   "metadata": {},
   "outputs": [
    {
     "data": {
      "text/html": [
       "<div>\n",
       "<style scoped>\n",
       "    .dataframe tbody tr th:only-of-type {\n",
       "        vertical-align: middle;\n",
       "    }\n",
       "\n",
       "    .dataframe tbody tr th {\n",
       "        vertical-align: top;\n",
       "    }\n",
       "\n",
       "    .dataframe thead th {\n",
       "        text-align: right;\n",
       "    }\n",
       "</style>\n",
       "<table border=\"1\" class=\"dataframe\">\n",
       "  <thead>\n",
       "    <tr style=\"text-align: right;\">\n",
       "      <th></th>\n",
       "      <th>ad_id</th>\n",
       "      <th>reporting_start</th>\n",
       "      <th>reporting_end</th>\n",
       "      <th>campaign_id</th>\n",
       "      <th>fb_campaign_id</th>\n",
       "      <th>age</th>\n",
       "      <th>gender</th>\n",
       "      <th>interest1</th>\n",
       "      <th>interest2</th>\n",
       "      <th>interest3</th>\n",
       "      <th>impressions</th>\n",
       "      <th>clicks</th>\n",
       "      <th>spent</th>\n",
       "      <th>total_conversion</th>\n",
       "      <th>approved_conversion</th>\n",
       "    </tr>\n",
       "  </thead>\n",
       "  <tbody>\n",
       "  </tbody>\n",
       "</table>\n",
       "</div>"
      ],
      "text/plain": [
       "Empty DataFrame\n",
       "Columns: [ad_id, reporting_start, reporting_end, campaign_id, fb_campaign_id, age, gender, interest1, interest2, interest3, impressions, clicks, spent, total_conversion, approved_conversion]\n",
       "Index: []"
      ]
     },
     "execution_count": 13,
     "metadata": {},
     "output_type": "execute_result"
    }
   ],
   "source": [
    "df[df.duplicated(subset = None, keep = False)]"
   ]
  },
  {
   "cell_type": "markdown",
   "id": "688b61a8",
   "metadata": {},
   "source": [
    "So far, there are no duplicate values in our dataset.\n",
    "\n",
    "**Data reduction:** Data reduction involves dropping the attribute ‘reporting_start’,'reporting_end', and 'fb_campaign_id' as we already have ad_id as our primary column to represent our each row ."
   ]
  },
  {
   "cell_type": "code",
   "execution_count": 14,
   "id": "a5a9c487",
   "metadata": {},
   "outputs": [],
   "source": [
    "df = df.drop(['reporting_start','reporting_end','fb_campaign_id'], axis=1)"
   ]
  },
  {
   "cell_type": "markdown",
   "id": "aee81090",
   "metadata": {},
   "source": [
    "#### Up next, we're going to observe some correlations ahead\n",
    "\n",
    "A correlation heatmap is used to list all the correlation coefficients in order to identify multicollinearity, in other words high intercorrelation above an absolute value of 0.5 between the a pair of attributes. For a pair of attributes with multicollinearity, one of them will be dropped since it would be redudant to include both of them with almost mirroring values. Another reason is to prevent overfitting.\n",
    "\n",
    "The correlation will compare and describe the linear connection and relationship between pairs of features, through the type of correlation and its strength. A positive correlation indicates that both features will change their values in the same direction, while a negative correlation indicates that both will change in opposite directions. The larger the correlation strength, the stronger the connection and relationship."
   ]
  },
  {
   "cell_type": "code",
   "execution_count": 15,
   "id": "48985668",
   "metadata": {},
   "outputs": [
    {
     "data": {
      "image/png": "[encoded data removed]",
      "text/plain": [
       "<Figure size 432x288 with 2 Axes>"
      ]
     },
     "metadata": {
      "needs_background": "light"
     },
     "output_type": "display_data"
    }
   ],
   "source": [
    "import seaborn as sns\n",
    "sns.heatmap(df.corr(), cmap = 'PuBu', annot = True)\n",
    "plt.show()"
   ]
  },
  {
   "cell_type": "markdown",
   "id": "021464d7",
   "metadata": {},
   "source": [
    "##### we've now cleaned up our data and prepared for analysis. \n"
   ]
  },
  {
   "cell_type": "code",
   "execution_count": 16,
   "id": "ec0571b5",
   "metadata": {},
   "outputs": [
    {
     "name": "stdout",
     "output_type": "stream",
     "text": [
      "<class 'pandas.core.frame.DataFrame'>\n",
      "Int64Index: 761 entries, 0 to 760\n",
      "Data columns (total 12 columns):\n",
      " #   Column               Non-Null Count  Dtype  \n",
      "---  ------               --------------  -----  \n",
      " 0   ad_id                761 non-null    int64  \n",
      " 1   campaign_id          761 non-null    object \n",
      " 2   age                  761 non-null    object \n",
      " 3   gender               761 non-null    object \n",
      " 4   interest1            761 non-null    int64  \n",
      " 5   interest2            761 non-null    int64  \n",
      " 6   interest3            761 non-null    int64  \n",
      " 7   impressions          761 non-null    float64\n",
      " 8   clicks               761 non-null    int64  \n",
      " 9   spent                761 non-null    float64\n",
      " 10  total_conversion     761 non-null    float64\n",
      " 11  approved_conversion  761 non-null    float64\n",
      "dtypes: float64(4), int64(5), object(3)\n",
      "memory usage: 77.3+ KB\n"
     ]
    }
   ],
   "source": [
    "# display the number of entries, the number and names of the column attributes, the data type\n",
    "df.info()"
   ]
  },
  {
   "cell_type": "markdown",
   "id": "4d723dd8",
   "metadata": {},
   "source": [
    "#### Let's take a look at sample of rows from the dataframe."
   ]
  },
  {
   "cell_type": "code",
   "execution_count": 17,
   "id": "b7bea3e1",
   "metadata": {},
   "outputs": [
    {
     "data": {
      "text/html": [
       "<div>\n",
       "<style scoped>\n",
       "    .dataframe tbody tr th:only-of-type {\n",
       "        vertical-align: middle;\n",
       "    }\n",
       "\n",
       "    .dataframe tbody tr th {\n",
       "        vertical-align: top;\n",
       "    }\n",
       "\n",
       "    .dataframe thead th {\n",
       "        text-align: right;\n",
       "    }\n",
       "</style>\n",
       "<table border=\"1\" class=\"dataframe\">\n",
       "  <thead>\n",
       "    <tr style=\"text-align: right;\">\n",
       "      <th></th>\n",
       "      <th>ad_id</th>\n",
       "      <th>campaign_id</th>\n",
       "      <th>age</th>\n",
       "      <th>gender</th>\n",
       "      <th>interest1</th>\n",
       "      <th>interest2</th>\n",
       "      <th>interest3</th>\n",
       "      <th>impressions</th>\n",
       "      <th>clicks</th>\n",
       "      <th>spent</th>\n",
       "      <th>total_conversion</th>\n",
       "      <th>approved_conversion</th>\n",
       "    </tr>\n",
       "  </thead>\n",
       "  <tbody>\n",
       "    <tr>\n",
       "      <th>0</th>\n",
       "      <td>708746</td>\n",
       "      <td>916</td>\n",
       "      <td>30-34</td>\n",
       "      <td>M</td>\n",
       "      <td>15</td>\n",
       "      <td>17</td>\n",
       "      <td>17</td>\n",
       "      <td>7350.0</td>\n",
       "      <td>1</td>\n",
       "      <td>1.43</td>\n",
       "      <td>2.0</td>\n",
       "      <td>1.0</td>\n",
       "    </tr>\n",
       "    <tr>\n",
       "      <th>1</th>\n",
       "      <td>708749</td>\n",
       "      <td>916</td>\n",
       "      <td>30-34</td>\n",
       "      <td>M</td>\n",
       "      <td>16</td>\n",
       "      <td>19</td>\n",
       "      <td>21</td>\n",
       "      <td>17861.0</td>\n",
       "      <td>2</td>\n",
       "      <td>1.82</td>\n",
       "      <td>2.0</td>\n",
       "      <td>0.0</td>\n",
       "    </tr>\n",
       "    <tr>\n",
       "      <th>2</th>\n",
       "      <td>708771</td>\n",
       "      <td>916</td>\n",
       "      <td>30-34</td>\n",
       "      <td>M</td>\n",
       "      <td>20</td>\n",
       "      <td>25</td>\n",
       "      <td>22</td>\n",
       "      <td>693.0</td>\n",
       "      <td>0</td>\n",
       "      <td>0.00</td>\n",
       "      <td>1.0</td>\n",
       "      <td>0.0</td>\n",
       "    </tr>\n",
       "    <tr>\n",
       "      <th>3</th>\n",
       "      <td>708815</td>\n",
       "      <td>916</td>\n",
       "      <td>30-34</td>\n",
       "      <td>M</td>\n",
       "      <td>28</td>\n",
       "      <td>32</td>\n",
       "      <td>32</td>\n",
       "      <td>4259.0</td>\n",
       "      <td>1</td>\n",
       "      <td>1.25</td>\n",
       "      <td>1.0</td>\n",
       "      <td>0.0</td>\n",
       "    </tr>\n",
       "    <tr>\n",
       "      <th>4</th>\n",
       "      <td>708818</td>\n",
       "      <td>916</td>\n",
       "      <td>30-34</td>\n",
       "      <td>M</td>\n",
       "      <td>28</td>\n",
       "      <td>33</td>\n",
       "      <td>32</td>\n",
       "      <td>4133.0</td>\n",
       "      <td>1</td>\n",
       "      <td>1.29</td>\n",
       "      <td>1.0</td>\n",
       "      <td>1.0</td>\n",
       "    </tr>\n",
       "  </tbody>\n",
       "</table>\n",
       "</div>"
      ],
      "text/plain": [
       "    ad_id campaign_id    age gender  interest1  interest2  interest3  \\\n",
       "0  708746         916  30-34      M         15         17         17   \n",
       "1  708749         916  30-34      M         16         19         21   \n",
       "2  708771         916  30-34      M         20         25         22   \n",
       "3  708815         916  30-34      M         28         32         32   \n",
       "4  708818         916  30-34      M         28         33         32   \n",
       "\n",
       "   impressions  clicks  spent  total_conversion  approved_conversion  \n",
       "0       7350.0       1   1.43               2.0                  1.0  \n",
       "1      17861.0       2   1.82               2.0                  0.0  \n",
       "2        693.0       0   0.00               1.0                  0.0  \n",
       "3       4259.0       1   1.25               1.0                  0.0  \n",
       "4       4133.0       1   1.29               1.0                  1.0  "
      ]
     },
     "execution_count": 17,
     "metadata": {},
     "output_type": "execute_result"
    }
   ],
   "source": [
    "df.head()"
   ]
  },
  {
   "cell_type": "markdown",
   "id": "bdb693ac",
   "metadata": {},
   "source": [
    "# III.  ANALYSIS AND VISUALIZATION\n",
    "\n",
    "#### Let's start with importing visualization libraries."
   ]
  },
  {
   "cell_type": "markdown",
   "id": "23a5c516",
   "metadata": {},
   "source": [
    "The Summary statistics:"
   ]
  },
  {
   "cell_type": "code",
   "execution_count": 18,
   "id": "88ceac0b",
   "metadata": {},
   "outputs": [
    {
     "data": {
      "text/html": [
       "<div>\n",
       "<style scoped>\n",
       "    .dataframe tbody tr th:only-of-type {\n",
       "        vertical-align: middle;\n",
       "    }\n",
       "\n",
       "    .dataframe tbody tr th {\n",
       "        vertical-align: top;\n",
       "    }\n",
       "\n",
       "    .dataframe thead th {\n",
       "        text-align: right;\n",
       "    }\n",
       "</style>\n",
       "<table border=\"1\" class=\"dataframe\">\n",
       "  <thead>\n",
       "    <tr style=\"text-align: right;\">\n",
       "      <th></th>\n",
       "      <th>ad_id</th>\n",
       "      <th>interest1</th>\n",
       "      <th>interest2</th>\n",
       "      <th>interest3</th>\n",
       "      <th>impressions</th>\n",
       "      <th>clicks</th>\n",
       "      <th>spent</th>\n",
       "      <th>total_conversion</th>\n",
       "      <th>approved_conversion</th>\n",
       "    </tr>\n",
       "  </thead>\n",
       "  <tbody>\n",
       "    <tr>\n",
       "      <th>count</th>\n",
       "      <td>7.610000e+02</td>\n",
       "      <td>761.000000</td>\n",
       "      <td>761.000000</td>\n",
       "      <td>761.000000</td>\n",
       "      <td>7.610000e+02</td>\n",
       "      <td>761.000000</td>\n",
       "      <td>761.000000</td>\n",
       "      <td>761.000000</td>\n",
       "      <td>761.000000</td>\n",
       "    </tr>\n",
       "    <tr>\n",
       "      <th>mean</th>\n",
       "      <td>8.956389e+05</td>\n",
       "      <td>25.473062</td>\n",
       "      <td>28.977661</td>\n",
       "      <td>28.984231</td>\n",
       "      <td>1.031716e+05</td>\n",
       "      <td>15.340342</td>\n",
       "      <td>25.782181</td>\n",
       "      <td>2.161629</td>\n",
       "      <td>0.768725</td>\n",
       "    </tr>\n",
       "    <tr>\n",
       "      <th>std</th>\n",
       "      <td>1.670937e+05</td>\n",
       "      <td>15.508898</td>\n",
       "      <td>15.607548</td>\n",
       "      <td>15.604816</td>\n",
       "      <td>2.462644e+05</td>\n",
       "      <td>32.715738</td>\n",
       "      <td>57.622334</td>\n",
       "      <td>4.062201</td>\n",
       "      <td>1.656445</td>\n",
       "    </tr>\n",
       "    <tr>\n",
       "      <th>min</th>\n",
       "      <td>7.087460e+05</td>\n",
       "      <td>2.000000</td>\n",
       "      <td>3.000000</td>\n",
       "      <td>3.000000</td>\n",
       "      <td>8.700000e+01</td>\n",
       "      <td>0.000000</td>\n",
       "      <td>0.000000</td>\n",
       "      <td>0.000000</td>\n",
       "      <td>0.000000</td>\n",
       "    </tr>\n",
       "    <tr>\n",
       "      <th>25%</th>\n",
       "      <td>7.480860e+05</td>\n",
       "      <td>16.000000</td>\n",
       "      <td>19.000000</td>\n",
       "      <td>19.000000</td>\n",
       "      <td>3.149000e+03</td>\n",
       "      <td>0.000000</td>\n",
       "      <td>0.000000</td>\n",
       "      <td>1.000000</td>\n",
       "      <td>0.000000</td>\n",
       "    </tr>\n",
       "    <tr>\n",
       "      <th>50%</th>\n",
       "      <td>7.811750e+05</td>\n",
       "      <td>22.000000</td>\n",
       "      <td>26.000000</td>\n",
       "      <td>25.000000</td>\n",
       "      <td>1.219300e+04</td>\n",
       "      <td>3.000000</td>\n",
       "      <td>3.580000</td>\n",
       "      <td>1.000000</td>\n",
       "      <td>0.000000</td>\n",
       "    </tr>\n",
       "    <tr>\n",
       "      <th>75%</th>\n",
       "      <td>1.121184e+06</td>\n",
       "      <td>29.000000</td>\n",
       "      <td>33.000000</td>\n",
       "      <td>33.000000</td>\n",
       "      <td>8.597000e+04</td>\n",
       "      <td>14.000000</td>\n",
       "      <td>23.210000</td>\n",
       "      <td>2.000000</td>\n",
       "      <td>1.000000</td>\n",
       "    </tr>\n",
       "    <tr>\n",
       "      <th>max</th>\n",
       "      <td>1.121593e+06</td>\n",
       "      <td>66.000000</td>\n",
       "      <td>72.000000</td>\n",
       "      <td>72.000000</td>\n",
       "      <td>3.052003e+06</td>\n",
       "      <td>340.000000</td>\n",
       "      <td>639.949998</td>\n",
       "      <td>60.000000</td>\n",
       "      <td>21.000000</td>\n",
       "    </tr>\n",
       "  </tbody>\n",
       "</table>\n",
       "</div>"
      ],
      "text/plain": [
       "              ad_id   interest1   interest2   interest3   impressions  \\\n",
       "count  7.610000e+02  761.000000  761.000000  761.000000  7.610000e+02   \n",
       "mean   8.956389e+05   25.473062   28.977661   28.984231  1.031716e+05   \n",
       "std    1.670937e+05   15.508898   15.607548   15.604816  2.462644e+05   \n",
       "min    7.087460e+05    2.000000    3.000000    3.000000  8.700000e+01   \n",
       "25%    7.480860e+05   16.000000   19.000000   19.000000  3.149000e+03   \n",
       "50%    7.811750e+05   22.000000   26.000000   25.000000  1.219300e+04   \n",
       "75%    1.121184e+06   29.000000   33.000000   33.000000  8.597000e+04   \n",
       "max    1.121593e+06   66.000000   72.000000   72.000000  3.052003e+06   \n",
       "\n",
       "           clicks       spent  total_conversion  approved_conversion  \n",
       "count  761.000000  761.000000        761.000000           761.000000  \n",
       "mean    15.340342   25.782181          2.161629             0.768725  \n",
       "std     32.715738   57.622334          4.062201             1.656445  \n",
       "min      0.000000    0.000000          0.000000             0.000000  \n",
       "25%      0.000000    0.000000          1.000000             0.000000  \n",
       "50%      3.000000    3.580000          1.000000             0.000000  \n",
       "75%     14.000000   23.210000          2.000000             1.000000  \n",
       "max    340.000000  639.949998         60.000000            21.000000  "
      ]
     },
     "execution_count": 18,
     "metadata": {},
     "output_type": "execute_result"
    }
   ],
   "source": [
    "df.describe()"
   ]
  },
  {
   "cell_type": "code",
   "execution_count": 19,
   "id": "6175a3fa",
   "metadata": {},
   "outputs": [
    {
     "data": {
      "text/plain": [
       "1645.0"
      ]
     },
     "execution_count": 19,
     "metadata": {},
     "output_type": "execute_result"
    }
   ],
   "source": [
    "round(sum(df['total_conversion']), 1)"
   ]
  },
  {
   "cell_type": "code",
   "execution_count": 20,
   "id": "672ce4b8",
   "metadata": {},
   "outputs": [
    {
     "data": {
      "text/plain": [
       "585.0"
      ]
     },
     "execution_count": 20,
     "metadata": {},
     "output_type": "execute_result"
    }
   ],
   "source": [
    "round(sum(df['approved_conversion']), 1)"
   ]
  },
  {
   "cell_type": "code",
   "execution_count": 21,
   "id": "36d7717d",
   "metadata": {},
   "outputs": [
    {
     "data": {
      "text/plain": [
       "19620.24"
      ]
     },
     "execution_count": 21,
     "metadata": {},
     "output_type": "execute_result"
    }
   ],
   "source": [
    "round(sum(df['spent']), 2)"
   ]
  },
  {
   "cell_type": "markdown",
   "id": "cb12bcef",
   "metadata": {},
   "source": [
    "Firstly, **the total number of people who enquired about the product after seeing the ad is 1645 , 2 average for every ads. and minimum number of peoples are 0 and maximum is 60.** <br>\n",
    "**The total number of people who bought the product after seeing the ad is 585 , with an average of 1 .** \n",
    "\n",
    "The company  spent the total amount of 19620.24, and 25.8 on average for each transaction. \n",
    "\n",
    "Now, we're gong to use kernel density curves for visualising the distributions of both total_conversion and approved_conversion in a form of continous probability density curve."
   ]
  },
  {
   "cell_type": "code",
   "execution_count": 22,
   "id": "e5f91b0f",
   "metadata": {},
   "outputs": [
    {
     "data": {
      "image/png": "[encoded data removed]",
      "text/plain": [
       "<Figure size 1080x360 with 1 Axes>"
      ]
     },
     "metadata": {
      "needs_background": "light"
     },
     "output_type": "display_data"
    }
   ],
   "source": [
    "plt.figure(figsize=(15,5))\n",
    "# plot spent and approved_converison for comparisons\n",
    "sns.kdeplot(df['total_conversion'], color = 'Teal', label = 'total_conversion', shade = True)\n",
    "sns.kdeplot(df['approved_conversion'], color = 'Cornflowerblue', label = 'approved_conversion' ,shade = True)\n",
    "plt.xlim([0,3])\n",
    "plt.ylim([0,0.55])\n",
    "plt.xlabel('Number of peoples')\n",
    "plt.ylabel('Density')\n",
    "plt.title('Total and Approved Ads', fontsize = 20)\n",
    "plt.legend(loc = 'upper right', frameon = False) \n",
    "plt.show()"
   ]
  },
  {
   "cell_type": "code",
   "execution_count": 23,
   "id": "3d6cf7b5",
   "metadata": {},
   "outputs": [
    {
     "data": {
      "image/png": "[encoded data removed]",
      "text/plain": [
       "<Figure size 1080x360 with 1 Axes>"
      ]
     },
     "metadata": {
      "needs_background": "light"
     },
     "output_type": "display_data"
    }
   ],
   "source": [
    "plt.figure(figsize=(15,5))\n",
    "# plot spent and approved_converison for comparisons\n",
    "sns.kdeplot(df['total_conversion'], color = 'Teal', label = 'total_conversion', shade = True)\n",
    "sns.kdeplot(df['approved_conversion'], color = 'Cornflowerblue', label = 'approved_conversion' ,shade = True)\n",
    "plt.xlim([3,10])\n",
    "plt.ylim([0,0.11])\n",
    "plt.xlabel('Number of peoples')\n",
    "plt.ylabel('Density')\n",
    "plt.title('Total and Approved Ads', fontsize = 20)\n",
    "plt.legend(loc = 'upper right', frameon = False) \n",
    "plt.show()"
   ]
  },
  {
   "cell_type": "markdown",
   "id": "cefea042",
   "metadata": {},
   "source": [
    "In above plots, the approved_conversion values are mostly above than the sales. Which shows good business of the company. But total_approved above 1.5 are having decreased approved_conversion and they are the areas where the improvement is needed."
   ]
  },
  {
   "cell_type": "markdown",
   "id": "5ff00082",
   "metadata": {},
   "source": [
    "Now, we're going to use kernel density curves for visualising the distributions of interest1,interest2,interest3 and approved_conversion in a form of continous probability density curve."
   ]
  },
  {
   "cell_type": "code",
   "execution_count": 24,
   "id": "153af9f8",
   "metadata": {},
   "outputs": [
    {
     "data": {
      "image/png": "[encoded data removed]",
      "text/plain": [
       "<Figure size 1080x360 with 1 Axes>"
      ]
     },
     "metadata": {
      "needs_background": "light"
     },
     "output_type": "display_data"
    }
   ],
   "source": [
    "plt.figure(figsize=(15,5))\n",
    "sns.kdeplot(df['approved_conversion'], color = 'Cornflowerblue', label = 'approved_conversion' ,shade = True)\n",
    "sns.kdeplot(df['interest1'], color = 'Teal', label = 'Interest 1', shade = True)\n",
    "sns.kdeplot(df['interest2'], color = 'Red', label = 'Interest 2', shade = True)\n",
    "sns.kdeplot(df['interest3'], color = 'Green', label = 'Interest 3', shade = True)\n",
    "plt.xlim([0,5])\n",
    "plt.ylim([0,0.55])\n",
    "plt.xlabel('Number of peoples')\n",
    "plt.ylabel('Density')\n",
    "plt.title('Total and Approved Ads', fontsize = 20)\n",
    "plt.legend(loc = 'upper right', frameon = False) \n",
    "plt.show()"
   ]
  },
  {
   "cell_type": "code",
   "execution_count": 25,
   "id": "74b0fbd5",
   "metadata": {},
   "outputs": [
    {
     "data": {
      "image/png": "[encoded data removed]",
      "text/plain": [
       "<Figure size 1080x360 with 1 Axes>"
      ]
     },
     "metadata": {
      "needs_background": "light"
     },
     "output_type": "display_data"
    }
   ],
   "source": [
    "plt.figure(figsize=(15,5))\n",
    "sns.kdeplot(df['approved_conversion'], color = 'Cornflowerblue', label = 'approved_conversion' ,shade = True)\n",
    "sns.kdeplot(df['interest1'], color = 'Teal', label = 'Interest 1', shade = True)\n",
    "sns.kdeplot(df['interest2'], color = 'Red', label = 'Interest 2', shade = True)\n",
    "sns.kdeplot(df['interest3'], color = 'Green', label = 'Interest 3', shade = True)\n",
    "plt.xlim([5,15])\n",
    "plt.ylim([0,0.1])\n",
    "plt.xlabel('Number of peoples')\n",
    "plt.ylabel('Density')\n",
    "plt.title('Total and Approved Ads', fontsize = 20)\n",
    "plt.legend(loc = 'upper right', frameon = False) \n",
    "plt.show()"
   ]
  },
  {
   "cell_type": "code",
   "execution_count": 26,
   "id": "79c18eec",
   "metadata": {},
   "outputs": [
    {
     "data": {
      "image/png": "[encoded data removed]",
      "text/plain": [
       "<Figure size 1080x360 with 1 Axes>"
      ]
     },
     "metadata": {
      "needs_background": "light"
     },
     "output_type": "display_data"
    }
   ],
   "source": [
    "plt.figure(figsize=(15,5))\n",
    "sns.kdeplot(df['approved_conversion'], color = 'Cornflowerblue', label = 'approved_conversion' ,shade = True)\n",
    "sns.kdeplot(df['interest1'], color = 'Teal', label = 'Interest 1', shade = True)\n",
    "sns.kdeplot(df['interest2'], color = 'Red', label = 'Interest 2', shade = True)\n",
    "sns.kdeplot(df['interest3'], color = 'Green', label = 'Interest 3', shade = True)\n",
    "plt.xlim([15,60])\n",
    "plt.ylim([0,0.04])\n",
    "plt.xlabel('Number of peoples')\n",
    "plt.ylabel('Density')\n",
    "plt.title('Total and Approved Ads', fontsize = 20)\n",
    "plt.legend(loc = 'upper right', frameon = False) \n",
    "plt.show()"
   ]
  },
  {
   "cell_type": "markdown",
   "id": "26934760",
   "metadata": {},
   "source": [
    "In above plots, the approved_conversion values are mostly above when peoples interest are really into those ads , so company needs to remove those ads where peoples don't have any interest and have to show the kind of ads where peoples interest are really into it."
   ]
  },
  {
   "cell_type": "markdown",
   "id": "d674f7d2",
   "metadata": {},
   "source": [
    "Let's plot countplot of age and gender"
   ]
  },
  {
   "cell_type": "code",
   "execution_count": 27,
   "id": "eecb2cb0",
   "metadata": {},
   "outputs": [
    {
     "data": {
      "image/png": "[encoded data removed]",
      "text/plain": [
       "<Figure size 720x216 with 2 Axes>"
      ]
     },
     "metadata": {
      "needs_background": "light"
     },
     "output_type": "display_data"
    }
   ],
   "source": [
    "import warnings\n",
    "warnings.filterwarnings(\"ignore\")\n",
    "fig, axs = plt.subplots(nrows = 1, ncols = 2, figsize=(10,3));\n",
    "sns.countplot(df['age'], ax = axs[0], palette = 'PuBu')\n",
    "sns.countplot(df['gender'], ax = axs[1], palette = 'PuBu')\n",
    "axs[0].set_title('age', fontsize = 20)\n",
    "axs[1].set_title('gender', fontsize = 20)\n",
    "plt.tight_layout()"
   ]
  },
  {
   "cell_type": "markdown",
   "id": "06f43f1b",
   "metadata": {},
   "source": [
    "# IV. ANALYSING DATA"
   ]
  },
  {
   "cell_type": "markdown",
   "id": "ac60a814",
   "metadata": {},
   "source": [
    "## Analyzing data on cost basis"
   ]
  },
  {
   "cell_type": "markdown",
   "id": "608e68f1",
   "metadata": {},
   "source": [
    "##### Counting the number of each campaign_id"
   ]
  },
  {
   "cell_type": "code",
   "execution_count": 28,
   "id": "fcb62b3e",
   "metadata": {},
   "outputs": [
    {
     "data": {
      "text/plain": [
       "936     464\n",
       "1178    243\n",
       "916      54\n",
       "Name: campaign_id, dtype: int64"
      ]
     },
     "execution_count": 28,
     "metadata": {},
     "output_type": "execute_result"
    }
   ],
   "source": [
    "df.campaign_id.value_counts()"
   ]
  },
  {
   "cell_type": "markdown",
   "id": "34a63397",
   "metadata": {},
   "source": [
    "Campaign_ID 916 is very less in number"
   ]
  },
  {
   "cell_type": "markdown",
   "id": "87188d01",
   "metadata": {},
   "source": [
    "#### Let's see the number of clicks on particular campaign_id"
   ]
  },
  {
   "cell_type": "code",
   "execution_count": 29,
   "id": "cd693dab",
   "metadata": {},
   "outputs": [
    {
     "data": {
      "text/plain": [
       "campaign_id\n",
       "1178    9577\n",
       "916      113\n",
       "936     1984\n",
       "Name: clicks, dtype: int64"
      ]
     },
     "execution_count": 29,
     "metadata": {},
     "output_type": "execute_result"
    }
   ],
   "source": [
    "df.groupby(['campaign_id']).clicks.sum()"
   ]
  },
  {
   "cell_type": "markdown",
   "id": "6d89d167",
   "metadata": {},
   "source": [
    "Campaign_ID 1178 is getting high number of clicks."
   ]
  },
  {
   "cell_type": "markdown",
   "id": "c85a6fba",
   "metadata": {},
   "source": [
    "#### Let's see the total amount spent on particular campaign_id"
   ]
  },
  {
   "cell_type": "code",
   "execution_count": 30,
   "id": "1a081446",
   "metadata": {},
   "outputs": [
    {
     "data": {
      "text/plain": [
       "campaign_id\n",
       "1178    16577.159998\n",
       "916       149.710001\n",
       "936      2893.369999\n",
       "Name: spent, dtype: float64"
      ]
     },
     "execution_count": 30,
     "metadata": {},
     "output_type": "execute_result"
    }
   ],
   "source": [
    "df.groupby(['campaign_id']).spent.sum()"
   ]
  },
  {
   "cell_type": "markdown",
   "id": "3031f4d9",
   "metadata": {},
   "source": [
    "Very less amount is being spent on Campaign_ID 916 "
   ]
  },
  {
   "cell_type": "markdown",
   "id": "3bcbbf3a",
   "metadata": {},
   "source": [
    "##### Calculating the cost per click on each campaign_id"
   ]
  },
  {
   "cell_type": "code",
   "execution_count": 31,
   "id": "65ce54fd",
   "metadata": {},
   "outputs": [
    {
     "name": "stdout",
     "output_type": "stream",
     "text": [
      "Cost per click of Campaign ID 1178  :  1.73\n",
      "Cost per click of Campaign ID 916  :  1.32\n",
      "Cost per click of Campaign ID 936  :  1.46\n"
     ]
    }
   ],
   "source": [
    "cam_id = [1178,916,936]\n",
    "for i,j,id in zip(round(df.groupby(['campaign_id']).spent.sum(),2),df.groupby(['campaign_id']).clicks.sum(),cam_id):\n",
    "    cost_per_click = float(i)/float(j)\n",
    "    print(\"Cost per click of Campaign ID\", id ,\" : \",round(cost_per_click,2))"
   ]
  },
  {
   "cell_type": "markdown",
   "id": "318d0228",
   "metadata": {},
   "source": [
    "Cost per click of Campaign_ID 916 is low as compard to other Campaign IDs"
   ]
  },
  {
   "cell_type": "markdown",
   "id": "c9b8da0a",
   "metadata": {},
   "source": [
    "#### Let's see the total number of peoples enquired on particular campaign_id"
   ]
  },
  {
   "cell_type": "code",
   "execution_count": 32,
   "id": "8233ec12",
   "metadata": {},
   "outputs": [
    {
     "data": {
      "text/plain": [
       "campaign_id\n",
       "1178    1050.0\n",
       "916       58.0\n",
       "936      537.0\n",
       "Name: total_conversion, dtype: float64"
      ]
     },
     "execution_count": 32,
     "metadata": {},
     "output_type": "execute_result"
    }
   ],
   "source": [
    "df.groupby(['campaign_id']).total_conversion.sum()"
   ]
  },
  {
   "cell_type": "markdown",
   "id": "08327c6c",
   "metadata": {},
   "source": [
    "High number of people of Campaign ID - 1178 enquired the product after seeing the ad."
   ]
  },
  {
   "cell_type": "markdown",
   "id": "84966260",
   "metadata": {},
   "source": [
    "##### Calculating the cost per total_conversion on each campaign_id"
   ]
  },
  {
   "cell_type": "code",
   "execution_count": 33,
   "id": "8b82977c",
   "metadata": {},
   "outputs": [
    {
     "name": "stdout",
     "output_type": "stream",
     "text": [
      "Cost per conversion of Campaign ID 1178  :  15.79\n",
      "Cost per conversion of Campaign ID 916  :  2.58\n",
      "Cost per conversion of Campaign ID 936  :  5.39\n"
     ]
    }
   ],
   "source": [
    "for i,j,id in zip(df.groupby(['campaign_id']).spent.sum(),df.groupby(['campaign_id']).total_conversion.sum(),cam_id):\n",
    "    cost_per_click = float(i)/float(j)\n",
    "    print(\"Cost per conversion of Campaign ID\", id ,\" : \",round(cost_per_click,2))"
   ]
  },
  {
   "cell_type": "markdown",
   "id": "6dce9bea",
   "metadata": {},
   "source": [
    "Cost per conversion of Campaign_ID 916 is low as compard to other Campaign IDs"
   ]
  },
  {
   "cell_type": "markdown",
   "id": "741ce761",
   "metadata": {},
   "source": [
    "#### Let's see the total number of Ads_ID on particular campaign_id"
   ]
  },
  {
   "cell_type": "code",
   "execution_count": 34,
   "id": "484d9da2",
   "metadata": {},
   "outputs": [
    {
     "data": {
      "text/plain": [
       "campaign_id\n",
       "1178    243\n",
       "916      54\n",
       "936     464\n",
       "Name: ad_id, dtype: int64"
      ]
     },
     "execution_count": 34,
     "metadata": {},
     "output_type": "execute_result"
    }
   ],
   "source": [
    "df.groupby(['campaign_id']).ad_id.count()"
   ]
  },
  {
   "cell_type": "markdown",
   "id": "5ed8da20",
   "metadata": {},
   "source": [
    "Campaign ID of 916 is in very less number of peoples as compared to other Campaign IDs."
   ]
  },
  {
   "cell_type": "markdown",
   "id": "78ded56d",
   "metadata": {},
   "source": [
    "##### Calculating the cost per AD_ID on each campaign_id"
   ]
  },
  {
   "cell_type": "code",
   "execution_count": 35,
   "id": "88df9f96",
   "metadata": {
    "scrolled": true
   },
   "outputs": [
    {
     "name": "stdout",
     "output_type": "stream",
     "text": [
      "Cost per conversion of Campaign ID 1178  :  68.22\n",
      "Cost per conversion of Campaign ID 916  :  2.77\n",
      "Cost per conversion of Campaign ID 936  :  6.24\n"
     ]
    }
   ],
   "source": [
    "for i,j,id in zip(df.groupby(['campaign_id']).spent.sum(),df.groupby(['campaign_id']).ad_id.count(),cam_id):\n",
    "    cost_per_click = float(i)/float(j)\n",
    "    print(\"Cost per conversion of Campaign ID\", id ,\" : \",round(cost_per_click,2))"
   ]
  },
  {
   "cell_type": "markdown",
   "id": "020ba8e3",
   "metadata": {},
   "source": [
    "Again , Cost per AD_ID of Campaign_ID 916 is low as compard to other Campaign IDs"
   ]
  },
  {
   "cell_type": "markdown",
   "id": "2bf1adbe",
   "metadata": {},
   "source": [
    "From the above analysis, ***campaign_id 916 is much efficient than other campaign_ids***"
   ]
  },
  {
   "cell_type": "markdown",
   "id": "de035258",
   "metadata": {},
   "source": [
    "**As we saw earlier, the number of campaign_id 916 is very less in number and still its the best campaign_id so, If we increase the numbers of 916 id , company will get more profit.**"
   ]
  },
  {
   "cell_type": "markdown",
   "id": "0976a825",
   "metadata": {},
   "source": [
    "## Analyzing data on gender basis"
   ]
  },
  {
   "cell_type": "markdown",
   "id": "14d58079",
   "metadata": {},
   "source": [
    "##### Let see the number of peoples from each gender with their campaign id"
   ]
  },
  {
   "cell_type": "code",
   "execution_count": 36,
   "id": "e785aab6",
   "metadata": {},
   "outputs": [
    {
     "data": {
      "text/plain": [
       "campaign_id  gender\n",
       "1178         M         243\n",
       "916          F          19\n",
       "             M          35\n",
       "936          F         256\n",
       "             M         208\n",
       "Name: ad_id, dtype: int64"
      ]
     },
     "execution_count": 36,
     "metadata": {},
     "output_type": "execute_result"
    }
   ],
   "source": [
    "df.groupby(['campaign_id','gender']).ad_id.count()"
   ]
  },
  {
   "cell_type": "markdown",
   "id": "9df8c7f2",
   "metadata": {},
   "source": [
    "Clearly males are more in number."
   ]
  },
  {
   "cell_type": "markdown",
   "id": "189eedf7",
   "metadata": {},
   "source": [
    "##### Let see the number of peoples from each gender with their campaign id who enquired the product through ads"
   ]
  },
  {
   "cell_type": "code",
   "execution_count": 37,
   "id": "89e47556",
   "metadata": {},
   "outputs": [
    {
     "data": {
      "text/plain": [
       "campaign_id  gender\n",
       "1178         M         1050.0\n",
       "916          F           20.0\n",
       "             M           38.0\n",
       "936          F          302.0\n",
       "             M          235.0\n",
       "Name: total_conversion, dtype: float64"
      ]
     },
     "execution_count": 37,
     "metadata": {},
     "output_type": "execute_result"
    }
   ],
   "source": [
    "df.groupby(['campaign_id','gender']).total_conversion.sum()"
   ]
  },
  {
   "cell_type": "markdown",
   "id": "db546847",
   "metadata": {},
   "source": [
    "**Males are more in number in campaign_id 1178 and 916 and less in number in campaign_id of 936 but we already saw that 916 is more efficient campaign_id. So, if we target on male alone, then we will get more profit.**"
   ]
  },
  {
   "cell_type": "markdown",
   "id": "4ef657e0",
   "metadata": {},
   "source": [
    "## Analyzing data on age basis"
   ]
  },
  {
   "cell_type": "markdown",
   "id": "3277fef0",
   "metadata": {},
   "source": [
    "##### Let's see the total number of age group in each gender "
   ]
  },
  {
   "cell_type": "code",
   "execution_count": 38,
   "id": "4164a46b",
   "metadata": {},
   "outputs": [
    {
     "data": {
      "text/plain": [
       "gender  age  \n",
       "M       30-34    219\n",
       "        35-39    128\n",
       "F       30-34    108\n",
       "M       40-44     92\n",
       "F       45-49     68\n",
       "        35-39     52\n",
       "        40-44     47\n",
       "M       45-49     47\n",
       "dtype: int64"
      ]
     },
     "execution_count": 38,
     "metadata": {},
     "output_type": "execute_result"
    }
   ],
   "source": [
    "df[['gender','age']].value_counts()"
   ]
  },
  {
   "cell_type": "markdown",
   "id": "d8c81928",
   "metadata": {},
   "source": [
    "Plotting piechart for the above table"
   ]
  },
  {
   "cell_type": "code",
   "execution_count": 39,
   "id": "21d96746",
   "metadata": {},
   "outputs": [
    {
     "data": {
      "text/plain": [
       "Text(0.5, 1.0, 'Gender VS Age')"
      ]
     },
     "execution_count": 39,
     "metadata": {},
     "output_type": "execute_result"
    },
    {
     "data": {
      "image/png": "[encoded data removed]",
      "text/plain": [
       "<Figure size 432x288 with 1 Axes>"
      ]
     },
     "metadata": {},
     "output_type": "display_data"
    }
   ],
   "source": [
    "colors = ['#ff9999','#66b3ff','#99ff99','#ffcc99']\n",
    "df[['gender','age']].value_counts().plot.pie(explode=[0,0.1,0.2,0.1,0,0.1,0.2,0],autopct='%1.1f%%',colors=colors,shadow=True)\n",
    "plt.ylabel('')\n",
    "plt.title('Gender VS Age')"
   ]
  },
  {
   "cell_type": "markdown",
   "id": "e3144d72",
   "metadata": {},
   "source": [
    "**The above plot shows that most of the target audiance is between the age group of 30-34 for both males and females.**"
   ]
  },
  {
   "cell_type": "markdown",
   "id": "2bb17fd4",
   "metadata": {},
   "source": [
    "##### Let see the number of peoples from each age group with their campaign id"
   ]
  },
  {
   "cell_type": "code",
   "execution_count": 40,
   "id": "4ea017a2",
   "metadata": {},
   "outputs": [
    {
     "data": {
      "text/plain": [
       "campaign_id  age  \n",
       "1178         30-34    102\n",
       "             35-39     79\n",
       "             40-44     58\n",
       "             45-49      4\n",
       "916          30-34     29\n",
       "             35-39     12\n",
       "             40-44      6\n",
       "             45-49      7\n",
       "936          30-34    196\n",
       "             35-39     89\n",
       "             40-44     75\n",
       "             45-49    104\n",
       "Name: ad_id, dtype: int64"
      ]
     },
     "execution_count": 40,
     "metadata": {},
     "output_type": "execute_result"
    }
   ],
   "source": [
    "df.groupby(['campaign_id','age']).ad_id.count()"
   ]
  },
  {
   "cell_type": "markdown",
   "id": "84762eb8",
   "metadata": {},
   "source": [
    "Peoples age between 30-34 and 35 -39 are more in number in all the campaign_id"
   ]
  },
  {
   "cell_type": "markdown",
   "id": "265ad4de",
   "metadata": {},
   "source": [
    "##### Let see the number of peoples from each age group with their campaign id who enquired the product through ads"
   ]
  },
  {
   "cell_type": "code",
   "execution_count": 41,
   "id": "66f11c9a",
   "metadata": {},
   "outputs": [
    {
     "data": {
      "text/plain": [
       "campaign_id  age  \n",
       "1178         30-34    632.0\n",
       "             35-39    248.0\n",
       "             40-44    145.0\n",
       "             45-49     25.0\n",
       "916          30-34     31.0\n",
       "             35-39     13.0\n",
       "             40-44      7.0\n",
       "             45-49      7.0\n",
       "936          30-34    227.0\n",
       "             35-39     96.0\n",
       "             40-44     83.0\n",
       "             45-49    131.0\n",
       "Name: total_conversion, dtype: float64"
      ]
     },
     "execution_count": 41,
     "metadata": {},
     "output_type": "execute_result"
    }
   ],
   "source": [
    "df.groupby(['campaign_id','age']).total_conversion.sum()"
   ]
  },
  {
   "cell_type": "markdown",
   "id": "e09903d5",
   "metadata": {},
   "source": [
    "Again , Peoples age between 30-34 and 35-39 shown more interest in all the campaign_id.\n",
    "\n",
    "**So. If we target more on peoples whose age are between 30-39 , company will get more profit.**"
   ]
  },
  {
   "cell_type": "markdown",
   "id": "25b96b0b",
   "metadata": {},
   "source": [
    "# V. RESULTS"
   ]
  },
  {
   "cell_type": "markdown",
   "id": "a32dea66",
   "metadata": {},
   "source": [
    "1. As we saw earlier, the number of campaign_id 916 is very less in number and still its the best campaign_id so, If we increase the numbers of 916 id , company will get more profit.\n",
    "2. Males are more in number in campaign_id 1178 and 916 and less in number in campaign_id of 936 but we already saw that 916 is more efficient campaign_id. So, if we target on male alone, then we will get more profit.\n",
    "3. If we target more on peoples whose age are between 30-39 , company will get more profit."
   ]
  }
 ],
 "metadata": {
  "kernelspec": {
   "display_name": "Python 3",
   "language": "python",
   "name": "python3"
  },
  "language_info": {
   "codemirror_mode": {
    "name": "ipython",
    "version": 3
   },
   "file_extension": ".py",
   "mimetype": "text/x-python",
   "name": "python",
   "nbconvert_exporter": "python",
   "pygments_lexer": "ipython3",
   "version": "3.8.8"
  }
 },
 "nbformat": 4,
 "nbformat_minor": 5
}
